{
 "cells": [
  {
   "cell_type": "code",
   "execution_count": 1,
   "metadata": {},
   "outputs": [],
   "source": [
    "import pandas as pd\n",
    "import numpy as np\n",
    "import matplotlib.pyplot as plt\n",
    "%matplotlib inline \n",
    "from sklearn.cluster import KMeans"
   ]
  },
  {
   "cell_type": "code",
   "execution_count": 2,
   "metadata": {},
   "outputs": [],
   "source": [
    "data=pd.read_csv(\"data_stocks.csv\")"
   ]
  },
  {
   "cell_type": "code",
   "execution_count": 3,
   "metadata": {},
   "outputs": [
    {
     "data": {
      "text/html": [
       "<div>\n",
       "<style scoped>\n",
       "    .dataframe tbody tr th:only-of-type {\n",
       "        vertical-align: middle;\n",
       "    }\n",
       "\n",
       "    .dataframe tbody tr th {\n",
       "        vertical-align: top;\n",
       "    }\n",
       "\n",
       "    .dataframe thead th {\n",
       "        text-align: right;\n",
       "    }\n",
       "</style>\n",
       "<table border=\"1\" class=\"dataframe\">\n",
       "  <thead>\n",
       "    <tr style=\"text-align: right;\">\n",
       "      <th></th>\n",
       "      <th>DATE</th>\n",
       "      <th>SP500</th>\n",
       "      <th>NASDAQ.AAL</th>\n",
       "      <th>NASDAQ.AAPL</th>\n",
       "      <th>NASDAQ.ADBE</th>\n",
       "      <th>NASDAQ.ADI</th>\n",
       "      <th>NASDAQ.ADP</th>\n",
       "      <th>NASDAQ.ADSK</th>\n",
       "      <th>NASDAQ.AKAM</th>\n",
       "      <th>NASDAQ.ALXN</th>\n",
       "      <th>...</th>\n",
       "      <th>NYSE.WYN</th>\n",
       "      <th>NYSE.XEC</th>\n",
       "      <th>NYSE.XEL</th>\n",
       "      <th>NYSE.XL</th>\n",
       "      <th>NYSE.XOM</th>\n",
       "      <th>NYSE.XRX</th>\n",
       "      <th>NYSE.XYL</th>\n",
       "      <th>NYSE.YUM</th>\n",
       "      <th>NYSE.ZBH</th>\n",
       "      <th>NYSE.ZTS</th>\n",
       "    </tr>\n",
       "  </thead>\n",
       "  <tbody>\n",
       "    <tr>\n",
       "      <th>0</th>\n",
       "      <td>1491226200</td>\n",
       "      <td>2363.6101</td>\n",
       "      <td>42.3300</td>\n",
       "      <td>143.6800</td>\n",
       "      <td>129.6300</td>\n",
       "      <td>82.040</td>\n",
       "      <td>102.2300</td>\n",
       "      <td>85.2200</td>\n",
       "      <td>59.760</td>\n",
       "      <td>121.52</td>\n",
       "      <td>...</td>\n",
       "      <td>84.370</td>\n",
       "      <td>119.035</td>\n",
       "      <td>44.40</td>\n",
       "      <td>39.88</td>\n",
       "      <td>82.03</td>\n",
       "      <td>7.36</td>\n",
       "      <td>50.22</td>\n",
       "      <td>63.86</td>\n",
       "      <td>122.000</td>\n",
       "      <td>53.350</td>\n",
       "    </tr>\n",
       "    <tr>\n",
       "      <th>1</th>\n",
       "      <td>1491226260</td>\n",
       "      <td>2364.1001</td>\n",
       "      <td>42.3600</td>\n",
       "      <td>143.7000</td>\n",
       "      <td>130.3200</td>\n",
       "      <td>82.080</td>\n",
       "      <td>102.1400</td>\n",
       "      <td>85.6500</td>\n",
       "      <td>59.840</td>\n",
       "      <td>121.48</td>\n",
       "      <td>...</td>\n",
       "      <td>84.370</td>\n",
       "      <td>119.035</td>\n",
       "      <td>44.11</td>\n",
       "      <td>39.88</td>\n",
       "      <td>82.03</td>\n",
       "      <td>7.38</td>\n",
       "      <td>50.22</td>\n",
       "      <td>63.74</td>\n",
       "      <td>121.770</td>\n",
       "      <td>53.350</td>\n",
       "    </tr>\n",
       "    <tr>\n",
       "      <th>2</th>\n",
       "      <td>1491226320</td>\n",
       "      <td>2362.6799</td>\n",
       "      <td>42.3100</td>\n",
       "      <td>143.6901</td>\n",
       "      <td>130.2250</td>\n",
       "      <td>82.030</td>\n",
       "      <td>102.2125</td>\n",
       "      <td>85.5100</td>\n",
       "      <td>59.795</td>\n",
       "      <td>121.93</td>\n",
       "      <td>...</td>\n",
       "      <td>84.585</td>\n",
       "      <td>119.260</td>\n",
       "      <td>44.09</td>\n",
       "      <td>39.98</td>\n",
       "      <td>82.02</td>\n",
       "      <td>7.36</td>\n",
       "      <td>50.12</td>\n",
       "      <td>63.75</td>\n",
       "      <td>121.700</td>\n",
       "      <td>53.365</td>\n",
       "    </tr>\n",
       "    <tr>\n",
       "      <th>3</th>\n",
       "      <td>1491226380</td>\n",
       "      <td>2364.3101</td>\n",
       "      <td>42.3700</td>\n",
       "      <td>143.6400</td>\n",
       "      <td>130.0729</td>\n",
       "      <td>82.000</td>\n",
       "      <td>102.1400</td>\n",
       "      <td>85.4872</td>\n",
       "      <td>59.620</td>\n",
       "      <td>121.44</td>\n",
       "      <td>...</td>\n",
       "      <td>84.460</td>\n",
       "      <td>119.260</td>\n",
       "      <td>44.25</td>\n",
       "      <td>39.99</td>\n",
       "      <td>82.02</td>\n",
       "      <td>7.35</td>\n",
       "      <td>50.16</td>\n",
       "      <td>63.88</td>\n",
       "      <td>121.700</td>\n",
       "      <td>53.380</td>\n",
       "    </tr>\n",
       "    <tr>\n",
       "      <th>4</th>\n",
       "      <td>1491226440</td>\n",
       "      <td>2364.8501</td>\n",
       "      <td>42.5378</td>\n",
       "      <td>143.6600</td>\n",
       "      <td>129.8800</td>\n",
       "      <td>82.035</td>\n",
       "      <td>102.0600</td>\n",
       "      <td>85.7001</td>\n",
       "      <td>59.620</td>\n",
       "      <td>121.60</td>\n",
       "      <td>...</td>\n",
       "      <td>84.470</td>\n",
       "      <td>119.610</td>\n",
       "      <td>44.11</td>\n",
       "      <td>39.96</td>\n",
       "      <td>82.03</td>\n",
       "      <td>7.36</td>\n",
       "      <td>50.20</td>\n",
       "      <td>63.91</td>\n",
       "      <td>121.695</td>\n",
       "      <td>53.240</td>\n",
       "    </tr>\n",
       "  </tbody>\n",
       "</table>\n",
       "<p>5 rows × 502 columns</p>\n",
       "</div>"
      ],
      "text/plain": [
       "         DATE      SP500  NASDAQ.AAL  NASDAQ.AAPL  NASDAQ.ADBE  NASDAQ.ADI  \\\n",
       "0  1491226200  2363.6101     42.3300     143.6800     129.6300      82.040   \n",
       "1  1491226260  2364.1001     42.3600     143.7000     130.3200      82.080   \n",
       "2  1491226320  2362.6799     42.3100     143.6901     130.2250      82.030   \n",
       "3  1491226380  2364.3101     42.3700     143.6400     130.0729      82.000   \n",
       "4  1491226440  2364.8501     42.5378     143.6600     129.8800      82.035   \n",
       "\n",
       "   NASDAQ.ADP  NASDAQ.ADSK  NASDAQ.AKAM  NASDAQ.ALXN  ...  NYSE.WYN  NYSE.XEC  \\\n",
       "0    102.2300      85.2200       59.760       121.52  ...    84.370   119.035   \n",
       "1    102.1400      85.6500       59.840       121.48  ...    84.370   119.035   \n",
       "2    102.2125      85.5100       59.795       121.93  ...    84.585   119.260   \n",
       "3    102.1400      85.4872       59.620       121.44  ...    84.460   119.260   \n",
       "4    102.0600      85.7001       59.620       121.60  ...    84.470   119.610   \n",
       "\n",
       "   NYSE.XEL  NYSE.XL  NYSE.XOM  NYSE.XRX  NYSE.XYL  NYSE.YUM  NYSE.ZBH  \\\n",
       "0     44.40    39.88     82.03      7.36     50.22     63.86   122.000   \n",
       "1     44.11    39.88     82.03      7.38     50.22     63.74   121.770   \n",
       "2     44.09    39.98     82.02      7.36     50.12     63.75   121.700   \n",
       "3     44.25    39.99     82.02      7.35     50.16     63.88   121.700   \n",
       "4     44.11    39.96     82.03      7.36     50.20     63.91   121.695   \n",
       "\n",
       "   NYSE.ZTS  \n",
       "0    53.350  \n",
       "1    53.350  \n",
       "2    53.365  \n",
       "3    53.380  \n",
       "4    53.240  \n",
       "\n",
       "[5 rows x 502 columns]"
      ]
     },
     "execution_count": 3,
     "metadata": {},
     "output_type": "execute_result"
    }
   ],
   "source": [
    "data.head()"
   ]
  },
  {
   "cell_type": "code",
   "execution_count": 4,
   "metadata": {},
   "outputs": [],
   "source": [
    "data_new = data.copy()\n",
    "data_new.drop(['DATE','SP500'],inplace=True,axis=1)"
   ]
  },
  {
   "cell_type": "code",
   "execution_count": 5,
   "metadata": {},
   "outputs": [
    {
     "data": {
      "text/plain": [
       "(41266, 500)"
      ]
     },
     "execution_count": 5,
     "metadata": {},
     "output_type": "execute_result"
    }
   ],
   "source": [
    "data_new.shape"
   ]
  },
  {
   "cell_type": "code",
   "execution_count": 6,
   "metadata": {},
   "outputs": [
    {
     "data": {
      "text/plain": [
       "0"
      ]
     },
     "execution_count": 6,
     "metadata": {},
     "output_type": "execute_result"
    }
   ],
   "source": [
    "data_new.isnull().sum().sum()"
   ]
  },
  {
   "cell_type": "markdown",
   "metadata": {},
   "source": [
    "## Problem 1: There are various stocks for which we have collected a data set, which all stocks are apparently similar in performance"
   ]
  },
  {
   "cell_type": "code",
   "execution_count": 44,
   "metadata": {},
   "outputs": [],
   "source": [
    "cor=data_new.corr()"
   ]
  },
  {
   "cell_type": "code",
   "execution_count": 45,
   "metadata": {},
   "outputs": [
    {
     "data": {
      "text/html": [
       "<div>\n",
       "<style scoped>\n",
       "    .dataframe tbody tr th:only-of-type {\n",
       "        vertical-align: middle;\n",
       "    }\n",
       "\n",
       "    .dataframe tbody tr th {\n",
       "        vertical-align: top;\n",
       "    }\n",
       "\n",
       "    .dataframe thead th {\n",
       "        text-align: right;\n",
       "    }\n",
       "</style>\n",
       "<table border=\"1\" class=\"dataframe\">\n",
       "  <thead>\n",
       "    <tr style=\"text-align: right;\">\n",
       "      <th></th>\n",
       "      <th>NASDAQ.AAL</th>\n",
       "      <th>NASDAQ.AAPL</th>\n",
       "      <th>NASDAQ.ADBE</th>\n",
       "      <th>NASDAQ.ADI</th>\n",
       "      <th>NASDAQ.ADP</th>\n",
       "      <th>NASDAQ.ADSK</th>\n",
       "      <th>NASDAQ.AKAM</th>\n",
       "      <th>NASDAQ.ALXN</th>\n",
       "      <th>NASDAQ.AMAT</th>\n",
       "      <th>NASDAQ.AMD</th>\n",
       "      <th>...</th>\n",
       "      <th>NYSE.WYN</th>\n",
       "      <th>NYSE.XEC</th>\n",
       "      <th>NYSE.XEL</th>\n",
       "      <th>NYSE.XL</th>\n",
       "      <th>NYSE.XOM</th>\n",
       "      <th>NYSE.XRX</th>\n",
       "      <th>NYSE.XYL</th>\n",
       "      <th>NYSE.YUM</th>\n",
       "      <th>NYSE.ZBH</th>\n",
       "      <th>NYSE.ZTS</th>\n",
       "    </tr>\n",
       "  </thead>\n",
       "  <tbody>\n",
       "    <tr>\n",
       "      <th>NASDAQ.AAL</th>\n",
       "      <td>1.000000</td>\n",
       "      <td>0.082065</td>\n",
       "      <td>0.542213</td>\n",
       "      <td>0.209446</td>\n",
       "      <td>0.245801</td>\n",
       "      <td>0.610881</td>\n",
       "      <td>-0.441142</td>\n",
       "      <td>0.009581</td>\n",
       "      <td>0.681863</td>\n",
       "      <td>0.272518</td>\n",
       "      <td>...</td>\n",
       "      <td>0.798624</td>\n",
       "      <td>-0.744085</td>\n",
       "      <td>0.284370</td>\n",
       "      <td>0.810955</td>\n",
       "      <td>-0.070950</td>\n",
       "      <td>0.522341</td>\n",
       "      <td>0.395730</td>\n",
       "      <td>0.642336</td>\n",
       "      <td>0.588241</td>\n",
       "      <td>0.753567</td>\n",
       "    </tr>\n",
       "    <tr>\n",
       "      <th>NASDAQ.AAPL</th>\n",
       "      <td>0.082065</td>\n",
       "      <td>1.000000</td>\n",
       "      <td>0.714578</td>\n",
       "      <td>0.264269</td>\n",
       "      <td>0.265641</td>\n",
       "      <td>0.645233</td>\n",
       "      <td>-0.712522</td>\n",
       "      <td>0.326712</td>\n",
       "      <td>0.545541</td>\n",
       "      <td>-0.238091</td>\n",
       "      <td>...</td>\n",
       "      <td>0.306664</td>\n",
       "      <td>-0.250959</td>\n",
       "      <td>0.738655</td>\n",
       "      <td>0.266994</td>\n",
       "      <td>-0.671488</td>\n",
       "      <td>0.341687</td>\n",
       "      <td>0.693062</td>\n",
       "      <td>0.627531</td>\n",
       "      <td>-0.580055</td>\n",
       "      <td>0.442600</td>\n",
       "    </tr>\n",
       "    <tr>\n",
       "      <th>NASDAQ.ADBE</th>\n",
       "      <td>0.542213</td>\n",
       "      <td>0.714578</td>\n",
       "      <td>1.000000</td>\n",
       "      <td>0.259282</td>\n",
       "      <td>0.476496</td>\n",
       "      <td>0.872353</td>\n",
       "      <td>-0.759604</td>\n",
       "      <td>0.488717</td>\n",
       "      <td>0.733609</td>\n",
       "      <td>0.201821</td>\n",
       "      <td>...</td>\n",
       "      <td>0.718851</td>\n",
       "      <td>-0.792876</td>\n",
       "      <td>0.850709</td>\n",
       "      <td>0.722161</td>\n",
       "      <td>-0.758967</td>\n",
       "      <td>0.806615</td>\n",
       "      <td>0.911106</td>\n",
       "      <td>0.939185</td>\n",
       "      <td>-0.067235</td>\n",
       "      <td>0.776052</td>\n",
       "    </tr>\n",
       "    <tr>\n",
       "      <th>NASDAQ.ADI</th>\n",
       "      <td>0.209446</td>\n",
       "      <td>0.264269</td>\n",
       "      <td>0.259282</td>\n",
       "      <td>1.000000</td>\n",
       "      <td>-0.085074</td>\n",
       "      <td>0.470756</td>\n",
       "      <td>-0.323603</td>\n",
       "      <td>-0.409747</td>\n",
       "      <td>0.504019</td>\n",
       "      <td>0.042083</td>\n",
       "      <td>...</td>\n",
       "      <td>0.203224</td>\n",
       "      <td>-0.160317</td>\n",
       "      <td>0.308948</td>\n",
       "      <td>0.050697</td>\n",
       "      <td>-0.024428</td>\n",
       "      <td>-0.017967</td>\n",
       "      <td>0.067258</td>\n",
       "      <td>0.261173</td>\n",
       "      <td>0.130786</td>\n",
       "      <td>0.351893</td>\n",
       "    </tr>\n",
       "    <tr>\n",
       "      <th>NASDAQ.ADP</th>\n",
       "      <td>0.245801</td>\n",
       "      <td>0.265641</td>\n",
       "      <td>0.476496</td>\n",
       "      <td>-0.085074</td>\n",
       "      <td>1.000000</td>\n",
       "      <td>0.325630</td>\n",
       "      <td>-0.229119</td>\n",
       "      <td>0.572143</td>\n",
       "      <td>0.099934</td>\n",
       "      <td>0.447506</td>\n",
       "      <td>...</td>\n",
       "      <td>0.321414</td>\n",
       "      <td>-0.438662</td>\n",
       "      <td>0.443773</td>\n",
       "      <td>0.347293</td>\n",
       "      <td>-0.463670</td>\n",
       "      <td>0.589464</td>\n",
       "      <td>0.634191</td>\n",
       "      <td>0.418591</td>\n",
       "      <td>-0.201805</td>\n",
       "      <td>0.160213</td>\n",
       "    </tr>\n",
       "  </tbody>\n",
       "</table>\n",
       "<p>5 rows × 500 columns</p>\n",
       "</div>"
      ],
      "text/plain": [
       "             NASDAQ.AAL  NASDAQ.AAPL  NASDAQ.ADBE  NASDAQ.ADI  NASDAQ.ADP  \\\n",
       "NASDAQ.AAL     1.000000     0.082065     0.542213    0.209446    0.245801   \n",
       "NASDAQ.AAPL    0.082065     1.000000     0.714578    0.264269    0.265641   \n",
       "NASDAQ.ADBE    0.542213     0.714578     1.000000    0.259282    0.476496   \n",
       "NASDAQ.ADI     0.209446     0.264269     0.259282    1.000000   -0.085074   \n",
       "NASDAQ.ADP     0.245801     0.265641     0.476496   -0.085074    1.000000   \n",
       "\n",
       "             NASDAQ.ADSK  NASDAQ.AKAM  NASDAQ.ALXN  NASDAQ.AMAT  NASDAQ.AMD  \\\n",
       "NASDAQ.AAL      0.610881    -0.441142     0.009581     0.681863    0.272518   \n",
       "NASDAQ.AAPL     0.645233    -0.712522     0.326712     0.545541   -0.238091   \n",
       "NASDAQ.ADBE     0.872353    -0.759604     0.488717     0.733609    0.201821   \n",
       "NASDAQ.ADI      0.470756    -0.323603    -0.409747     0.504019    0.042083   \n",
       "NASDAQ.ADP      0.325630    -0.229119     0.572143     0.099934    0.447506   \n",
       "\n",
       "             ...  NYSE.WYN  NYSE.XEC  NYSE.XEL   NYSE.XL  NYSE.XOM  NYSE.XRX  \\\n",
       "NASDAQ.AAL   ...  0.798624 -0.744085  0.284370  0.810955 -0.070950  0.522341   \n",
       "NASDAQ.AAPL  ...  0.306664 -0.250959  0.738655  0.266994 -0.671488  0.341687   \n",
       "NASDAQ.ADBE  ...  0.718851 -0.792876  0.850709  0.722161 -0.758967  0.806615   \n",
       "NASDAQ.ADI   ...  0.203224 -0.160317  0.308948  0.050697 -0.024428 -0.017967   \n",
       "NASDAQ.ADP   ...  0.321414 -0.438662  0.443773  0.347293 -0.463670  0.589464   \n",
       "\n",
       "             NYSE.XYL  NYSE.YUM  NYSE.ZBH  NYSE.ZTS  \n",
       "NASDAQ.AAL   0.395730  0.642336  0.588241  0.753567  \n",
       "NASDAQ.AAPL  0.693062  0.627531 -0.580055  0.442600  \n",
       "NASDAQ.ADBE  0.911106  0.939185 -0.067235  0.776052  \n",
       "NASDAQ.ADI   0.067258  0.261173  0.130786  0.351893  \n",
       "NASDAQ.ADP   0.634191  0.418591 -0.201805  0.160213  \n",
       "\n",
       "[5 rows x 500 columns]"
      ]
     },
     "execution_count": 45,
     "metadata": {},
     "output_type": "execute_result"
    }
   ],
   "source": [
    "cor.head()"
   ]
  },
  {
   "cell_type": "markdown",
   "metadata": {},
   "source": [
    "## Problem 2: How many Unique patterns that exist in the historical stock data set, based on fluctuations in price."
   ]
  },
  {
   "cell_type": "code",
   "execution_count": 7,
   "metadata": {},
   "outputs": [],
   "source": [
    "from sklearn.preprocessing import StandardScaler"
   ]
  },
  {
   "cell_type": "code",
   "execution_count": 8,
   "metadata": {},
   "outputs": [
    {
     "data": {
      "text/plain": [
       "StandardScaler(copy=True, with_mean=True, with_std=True)"
      ]
     },
     "execution_count": 8,
     "metadata": {},
     "output_type": "execute_result"
    }
   ],
   "source": [
    "scalar=StandardScaler()\n",
    "scalar.fit(data_new)"
   ]
  },
  {
   "cell_type": "code",
   "execution_count": 9,
   "metadata": {},
   "outputs": [
    {
     "data": {
      "text/plain": [
       "array([[-1.65013444, -1.08607297, -1.68982378, ..., -1.95578373,\n",
       "         0.10281519, -2.04188417],\n",
       "       [-1.64093012, -1.08286618, -1.59006459, ..., -1.98549977,\n",
       "         0.06179505, -2.04188417],\n",
       "       [-1.65627065, -1.08445354, -1.60379955, ..., -1.98302344,\n",
       "         0.04931066, -2.03740234],\n",
       "       ...,\n",
       "       [-0.91072048,  2.17363755,  1.98753131, ...,  1.2684067 ,\n",
       "        -1.26868429,  0.74730823],\n",
       "       [-0.9199248 ,  2.15279336,  1.97235056, ...,  1.25602502,\n",
       "        -1.28295217,  0.73090473],\n",
       "       [-0.91072048,  2.16882735,  2.00126627, ...,  1.25107235,\n",
       "        -1.27403475,  0.74581429]])"
      ]
     },
     "execution_count": 9,
     "metadata": {},
     "output_type": "execute_result"
    }
   ],
   "source": [
    "scaled_data=scalar.transform(data_new)\n",
    "scaled_data"
   ]
  },
  {
   "cell_type": "code",
   "execution_count": 10,
   "metadata": {},
   "outputs": [],
   "source": [
    "from sklearn.decomposition import PCA"
   ]
  },
  {
   "cell_type": "code",
   "execution_count": 11,
   "metadata": {},
   "outputs": [
    {
     "data": {
      "text/plain": [
       "PCA(copy=True, iterated_power='auto', n_components=2, random_state=None,\n",
       "    svd_solver='auto', tol=0.0, whiten=False)"
      ]
     },
     "execution_count": 11,
     "metadata": {},
     "output_type": "execute_result"
    }
   ],
   "source": [
    "pca=PCA(n_components=2)\n",
    "pca.fit(scaled_data)"
   ]
  },
  {
   "cell_type": "code",
   "execution_count": 12,
   "metadata": {},
   "outputs": [
    {
     "data": {
      "text/plain": [
       "(41266, 2)"
      ]
     },
     "execution_count": 12,
     "metadata": {},
     "output_type": "execute_result"
    }
   ],
   "source": [
    "x_pca=pca.transform(scaled_data)\n",
    "x_pca.shape"
   ]
  },
  {
   "cell_type": "code",
   "execution_count": 13,
   "metadata": {},
   "outputs": [],
   "source": [
    "elbow_w=[]\n",
    "K=range(1,10)\n",
    "for k in K:\n",
    "    km=KMeans(n_clusters=k)\n",
    "    km=km.fit(x_pca)\n",
    "    elbow_w.append(km.inertia_)"
   ]
  },
  {
   "cell_type": "code",
   "execution_count": 14,
   "metadata": {},
   "outputs": [
    {
     "data": {
      "image/png": "[encoded data removed]",
      "text/plain": [
       "<Figure size 432x288 with 1 Axes>"
      ]
     },
     "metadata": {
      "needs_background": "light"
     },
     "output_type": "display_data"
    }
   ],
   "source": [
    "plt.plot(K,elbow_w,'bo--')\n",
    "plt.show()"
   ]
  },
  {
   "cell_type": "code",
   "execution_count": 15,
   "metadata": {},
   "outputs": [],
   "source": [
    "from sklearn.metrics import silhouette_score"
   ]
  },
  {
   "cell_type": "code",
   "execution_count": 16,
   "metadata": {},
   "outputs": [],
   "source": [
    "#Using silhouette_score to find the K or no. of clusters.\n",
    "ss=[]\n",
    "n=range(2,8)"
   ]
  },
  {
   "cell_type": "code",
   "execution_count": 17,
   "metadata": {},
   "outputs": [
    {
     "data": {
      "text/plain": [
       "[<matplotlib.lines.Line2D at 0x263a13e5208>]"
      ]
     },
     "execution_count": 17,
     "metadata": {},
     "output_type": "execute_result"
    },
    {
     "data": {
      "image/png": "[encoded data removed]",
      "text/plain": [
       "<Figure size 432x288 with 1 Axes>"
      ]
     },
     "metadata": {
      "needs_background": "light"
     },
     "output_type": "display_data"
    }
   ],
   "source": [
    "for n_clu in n:\n",
    "    clust=KMeans(n_clusters=n_clu)\n",
    "    preds=clust.fit_predict(x_pca)\n",
    "    ss.append(silhouette_score(x_pca,preds,metric='euclidean'))\n",
    "plt.plot(n,ss,'bo--')"
   ]
  },
  {
   "cell_type": "code",
   "execution_count": 18,
   "metadata": {},
   "outputs": [
    {
     "data": {
      "text/plain": [
       "KMeans(algorithm='auto', copy_x=True, init='k-means++', max_iter=300,\n",
       "       n_clusters=4, n_init=10, n_jobs=None, precompute_distances='auto',\n",
       "       random_state=None, tol=0.0001, verbose=0)"
      ]
     },
     "execution_count": 18,
     "metadata": {},
     "output_type": "execute_result"
    }
   ],
   "source": [
    "kmeans=KMeans(n_clusters=4)\n",
    "kmeans.fit(x_pca)"
   ]
  },
  {
   "cell_type": "code",
   "execution_count": 19,
   "metadata": {},
   "outputs": [],
   "source": [
    "ymeans=kmeans.predict(x_pca)"
   ]
  },
  {
   "cell_type": "code",
   "execution_count": 28,
   "metadata": {},
   "outputs": [
    {
     "data": {
      "image/png": "[encoded data removed]",
      "text/plain": [
       "<Figure size 360x360 with 1 Axes>"
      ]
     },
     "metadata": {
      "needs_background": "light"
     },
     "output_type": "display_data"
    }
   ],
   "source": [
    "#ploting data in 4 clusters\n",
    "fig=plt.figure(figsize=(5,5))\n",
    "plt.scatter(x_pca[ymeans==0,0],x_pca[ymeans==0,1],s=10,c='r',alpha=0.5,label=\"Cluster 1\")\n",
    "plt.scatter(x_pca[ymeans==1,0],x_pca[ymeans==1,1],s=10,c='b',alpha=0.5,label=\"Cluster 2\")\n",
    "plt.scatter(x_pca[ymeans==2,0],x_pca[ymeans==2,1],s=10,c='c',label=\"Cluster 3\")\n",
    "plt.scatter(x_pca[ymeans==3,0],x_pca[ymeans==3,1],s=10,c='g',alpha=1.0,label=\"Cluster 4\")\n",
    "plt.title('clusters of stocks')\n",
    "plt.xlabel('Pricipal component(1)')\n",
    "plt.ylabel('Principal component(2)')\n",
    "plt.legend()\n",
    "plt.show()"
   ]
  },
  {
   "cell_type": "markdown",
   "metadata": {},
   "source": [
    "## Problem 3: Identify which all stocks are moving together and which all stocks are different from each other."
   ]
  },
  {
   "cell_type": "code",
   "execution_count": 49,
   "metadata": {},
   "outputs": [
    {
     "data": {
      "text/html": [
       "<div>\n",
       "<style scoped>\n",
       "    .dataframe tbody tr th:only-of-type {\n",
       "        vertical-align: middle;\n",
       "    }\n",
       "\n",
       "    .dataframe tbody tr th {\n",
       "        vertical-align: top;\n",
       "    }\n",
       "\n",
       "    .dataframe thead th {\n",
       "        text-align: right;\n",
       "    }\n",
       "</style>\n",
       "<table border=\"1\" class=\"dataframe\">\n",
       "  <thead>\n",
       "    <tr style=\"text-align: right;\">\n",
       "      <th></th>\n",
       "      <th>DATE</th>\n",
       "      <th>SP500</th>\n",
       "      <th>NASDAQ.AAL</th>\n",
       "      <th>NASDAQ.AAPL</th>\n",
       "      <th>NASDAQ.ADBE</th>\n",
       "      <th>NASDAQ.ADI</th>\n",
       "      <th>NASDAQ.ADP</th>\n",
       "      <th>NASDAQ.ADSK</th>\n",
       "      <th>NASDAQ.AKAM</th>\n",
       "      <th>NASDAQ.ALXN</th>\n",
       "      <th>...</th>\n",
       "      <th>NYSE.WYN</th>\n",
       "      <th>NYSE.XEC</th>\n",
       "      <th>NYSE.XEL</th>\n",
       "      <th>NYSE.XL</th>\n",
       "      <th>NYSE.XOM</th>\n",
       "      <th>NYSE.XRX</th>\n",
       "      <th>NYSE.XYL</th>\n",
       "      <th>NYSE.YUM</th>\n",
       "      <th>NYSE.ZBH</th>\n",
       "      <th>NYSE.ZTS</th>\n",
       "    </tr>\n",
       "  </thead>\n",
       "  <tbody>\n",
       "    <tr>\n",
       "      <th>0</th>\n",
       "      <td>1491226200</td>\n",
       "      <td>2363.6101</td>\n",
       "      <td>42.3300</td>\n",
       "      <td>143.6800</td>\n",
       "      <td>129.6300</td>\n",
       "      <td>82.040</td>\n",
       "      <td>102.2300</td>\n",
       "      <td>85.2200</td>\n",
       "      <td>59.760</td>\n",
       "      <td>121.52</td>\n",
       "      <td>...</td>\n",
       "      <td>84.370</td>\n",
       "      <td>119.035</td>\n",
       "      <td>44.40</td>\n",
       "      <td>39.88</td>\n",
       "      <td>82.03</td>\n",
       "      <td>7.36</td>\n",
       "      <td>50.22</td>\n",
       "      <td>63.86</td>\n",
       "      <td>122.000</td>\n",
       "      <td>53.350</td>\n",
       "    </tr>\n",
       "    <tr>\n",
       "      <th>1</th>\n",
       "      <td>1491226260</td>\n",
       "      <td>2364.1001</td>\n",
       "      <td>42.3600</td>\n",
       "      <td>143.7000</td>\n",
       "      <td>130.3200</td>\n",
       "      <td>82.080</td>\n",
       "      <td>102.1400</td>\n",
       "      <td>85.6500</td>\n",
       "      <td>59.840</td>\n",
       "      <td>121.48</td>\n",
       "      <td>...</td>\n",
       "      <td>84.370</td>\n",
       "      <td>119.035</td>\n",
       "      <td>44.11</td>\n",
       "      <td>39.88</td>\n",
       "      <td>82.03</td>\n",
       "      <td>7.38</td>\n",
       "      <td>50.22</td>\n",
       "      <td>63.74</td>\n",
       "      <td>121.770</td>\n",
       "      <td>53.350</td>\n",
       "    </tr>\n",
       "    <tr>\n",
       "      <th>2</th>\n",
       "      <td>1491226320</td>\n",
       "      <td>2362.6799</td>\n",
       "      <td>42.3100</td>\n",
       "      <td>143.6901</td>\n",
       "      <td>130.2250</td>\n",
       "      <td>82.030</td>\n",
       "      <td>102.2125</td>\n",
       "      <td>85.5100</td>\n",
       "      <td>59.795</td>\n",
       "      <td>121.93</td>\n",
       "      <td>...</td>\n",
       "      <td>84.585</td>\n",
       "      <td>119.260</td>\n",
       "      <td>44.09</td>\n",
       "      <td>39.98</td>\n",
       "      <td>82.02</td>\n",
       "      <td>7.36</td>\n",
       "      <td>50.12</td>\n",
       "      <td>63.75</td>\n",
       "      <td>121.700</td>\n",
       "      <td>53.365</td>\n",
       "    </tr>\n",
       "    <tr>\n",
       "      <th>3</th>\n",
       "      <td>1491226380</td>\n",
       "      <td>2364.3101</td>\n",
       "      <td>42.3700</td>\n",
       "      <td>143.6400</td>\n",
       "      <td>130.0729</td>\n",
       "      <td>82.000</td>\n",
       "      <td>102.1400</td>\n",
       "      <td>85.4872</td>\n",
       "      <td>59.620</td>\n",
       "      <td>121.44</td>\n",
       "      <td>...</td>\n",
       "      <td>84.460</td>\n",
       "      <td>119.260</td>\n",
       "      <td>44.25</td>\n",
       "      <td>39.99</td>\n",
       "      <td>82.02</td>\n",
       "      <td>7.35</td>\n",
       "      <td>50.16</td>\n",
       "      <td>63.88</td>\n",
       "      <td>121.700</td>\n",
       "      <td>53.380</td>\n",
       "    </tr>\n",
       "    <tr>\n",
       "      <th>4</th>\n",
       "      <td>1491226440</td>\n",
       "      <td>2364.8501</td>\n",
       "      <td>42.5378</td>\n",
       "      <td>143.6600</td>\n",
       "      <td>129.8800</td>\n",
       "      <td>82.035</td>\n",
       "      <td>102.0600</td>\n",
       "      <td>85.7001</td>\n",
       "      <td>59.620</td>\n",
       "      <td>121.60</td>\n",
       "      <td>...</td>\n",
       "      <td>84.470</td>\n",
       "      <td>119.610</td>\n",
       "      <td>44.11</td>\n",
       "      <td>39.96</td>\n",
       "      <td>82.03</td>\n",
       "      <td>7.36</td>\n",
       "      <td>50.20</td>\n",
       "      <td>63.91</td>\n",
       "      <td>121.695</td>\n",
       "      <td>53.240</td>\n",
       "    </tr>\n",
       "  </tbody>\n",
       "</table>\n",
       "<p>5 rows × 502 columns</p>\n",
       "</div>"
      ],
      "text/plain": [
       "         DATE      SP500  NASDAQ.AAL  NASDAQ.AAPL  NASDAQ.ADBE  NASDAQ.ADI  \\\n",
       "0  1491226200  2363.6101     42.3300     143.6800     129.6300      82.040   \n",
       "1  1491226260  2364.1001     42.3600     143.7000     130.3200      82.080   \n",
       "2  1491226320  2362.6799     42.3100     143.6901     130.2250      82.030   \n",
       "3  1491226380  2364.3101     42.3700     143.6400     130.0729      82.000   \n",
       "4  1491226440  2364.8501     42.5378     143.6600     129.8800      82.035   \n",
       "\n",
       "   NASDAQ.ADP  NASDAQ.ADSK  NASDAQ.AKAM  NASDAQ.ALXN  ...  NYSE.WYN  NYSE.XEC  \\\n",
       "0    102.2300      85.2200       59.760       121.52  ...    84.370   119.035   \n",
       "1    102.1400      85.6500       59.840       121.48  ...    84.370   119.035   \n",
       "2    102.2125      85.5100       59.795       121.93  ...    84.585   119.260   \n",
       "3    102.1400      85.4872       59.620       121.44  ...    84.460   119.260   \n",
       "4    102.0600      85.7001       59.620       121.60  ...    84.470   119.610   \n",
       "\n",
       "   NYSE.XEL  NYSE.XL  NYSE.XOM  NYSE.XRX  NYSE.XYL  NYSE.YUM  NYSE.ZBH  \\\n",
       "0     44.40    39.88     82.03      7.36     50.22     63.86   122.000   \n",
       "1     44.11    39.88     82.03      7.38     50.22     63.74   121.770   \n",
       "2     44.09    39.98     82.02      7.36     50.12     63.75   121.700   \n",
       "3     44.25    39.99     82.02      7.35     50.16     63.88   121.700   \n",
       "4     44.11    39.96     82.03      7.36     50.20     63.91   121.695   \n",
       "\n",
       "   NYSE.ZTS  \n",
       "0    53.350  \n",
       "1    53.350  \n",
       "2    53.365  \n",
       "3    53.380  \n",
       "4    53.240  \n",
       "\n",
       "[5 rows x 502 columns]"
      ]
     },
     "execution_count": 49,
     "metadata": {},
     "output_type": "execute_result"
    }
   ],
   "source": [
    "# Apply PCA to identify the stocks correlated with each other\n",
    "data.head()"
   ]
  },
  {
   "cell_type": "code",
   "execution_count": 50,
   "metadata": {},
   "outputs": [
    {
     "name": "stdout",
     "output_type": "stream",
     "text": [
      "[47.03 64.26 76.28 81.13 84.93 87.74 89.74 91.05 92.1  92.85 93.53 94.11\n",
      " 94.57 95.02 95.43 95.78 96.11 96.37 96.6  96.82 97.01 97.17 97.32 97.45\n",
      " 97.58 97.7  97.81 97.91 98.   98.08 98.16 98.24 98.31 98.38 98.44 98.5\n",
      " 98.56 98.61 98.66 98.71 98.75 98.79 98.83 98.87 98.91 98.94 98.97 99.\n",
      " 99.03 99.06 99.09 99.12 99.15 99.17 99.19 99.21 99.23 99.25 99.27 99.29\n",
      " 99.31 99.33 99.35 99.37 99.39 99.41 99.43 99.45 99.46 99.47 99.48 99.49\n",
      " 99.5  99.51 99.52 99.53 99.54 99.55 99.56 99.57 99.58 99.59 99.6  99.61\n",
      " 99.62 99.63 99.64 99.65 99.66 99.67 99.68 99.69 99.7  99.71 99.72 99.73\n",
      " 99.74 99.75 99.76 99.77 99.78 99.79 99.79 99.79 99.79 99.79 99.79 99.79\n",
      " 99.79 99.79 99.79 99.79 99.79 99.79 99.79 99.79 99.79 99.79 99.79 99.79\n",
      " 99.79 99.79 99.79 99.79 99.79 99.79 99.79 99.79 99.79 99.79 99.79 99.79\n",
      " 99.79 99.79 99.79 99.79 99.79 99.79 99.79 99.79 99.79 99.79 99.79 99.79\n",
      " 99.79 99.79 99.79 99.79 99.79 99.79]\n"
     ]
    }
   ],
   "source": [
    "dt = data.copy()\n",
    "dt.drop(['DATE','SP500'],inplace=True,axis=1)\n",
    "\n",
    "from sklearn.decomposition import PCA\n",
    "from sklearn.preprocessing import StandardScaler\n",
    "\n",
    "# convert data into numpy arrays\n",
    "X = dt.values\n",
    "\n",
    "# Scaling the values\n",
    "sc = StandardScaler()\n",
    "X_scaled = sc.fit_transform(X)\n",
    "\n",
    "pca = PCA(n_components=150)\n",
    "pca.fit(X_scaled)\n",
    "\n",
    "# the amount of variance that each PCA explains\n",
    "var = pca.explained_variance_ratio_\n",
    "\n",
    "# cumulative varince explains\n",
    "var1 = np.cumsum(np.round(var, decimals=4)*100)\n",
    "print(var1)"
   ]
  },
  {
   "cell_type": "code",
   "execution_count": 51,
   "metadata": {},
   "outputs": [
    {
     "data": {
      "text/plain": [
       "[<matplotlib.lines.Line2D at 0x263cfbd6508>]"
      ]
     },
     "execution_count": 51,
     "metadata": {},
     "output_type": "execute_result"
    },
    {
     "data": {
      "image/png": "[encoded data removed]",
      "text/plain": [
       "<Figure size 432x288 with 1 Axes>"
      ]
     },
     "metadata": {
      "needs_background": "light"
     },
     "output_type": "display_data"
    }
   ],
   "source": [
    "plt.plot(var1)"
   ]
  },
  {
   "cell_type": "code",
   "execution_count": 52,
   "metadata": {},
   "outputs": [
    {
     "name": "stdout",
     "output_type": "stream",
     "text": [
      "[[ 25.55018064  10.00580482  -9.38207446 ...   0.54898792   0.09679853\n",
      "    2.41634475]\n",
      " [ 25.64880185   9.89282687  -9.8023104  ...   0.45075987   0.18036943\n",
      "    2.30954871]\n",
      " [ 25.56345929   9.82533675  -9.67570287 ...   0.52729617   0.05295399\n",
      "    2.05260167]\n",
      " ...\n",
      " [-22.76894921  13.32753802   6.56220278 ...  -2.15217759   1.18588108\n",
      "   -0.3136739 ]\n",
      " [-22.61319638  13.41831515   6.6755356  ...  -2.13791377   1.19226068\n",
      "   -0.34009694]\n",
      " [-22.72127837  13.36292841   6.60406294 ...  -2.17510366   1.17183618\n",
      "   -0.29988831]]\n"
     ]
    }
   ],
   "source": [
    "# Looking at above plot I can consider 25 variables \n",
    "pca = PCA(n_components =25)\n",
    "X1 = pca.fit_transform(X_scaled)\n",
    "print(X1)"
   ]
  },
  {
   "cell_type": "code",
   "execution_count": 53,
   "metadata": {},
   "outputs": [
    {
     "name": "stdout",
     "output_type": "stream",
     "text": [
      "Number of PCA : 25\n",
      "[[0.03925756 0.04106421 0.0629084  ... 0.06247664 0.00253829 0.05169773]\n",
      " [0.06428354 0.033861   0.00186129 ... 0.02040637 0.08122924 0.05950068]\n",
      " [0.03985758 0.06416494 0.01207933 ... 0.02101011 0.06637293 0.02356977]\n",
      " ...\n",
      " [0.01161272 0.00534388 0.00472457 ... 0.01178677 0.04444232 0.01198148]\n",
      " [0.07435042 0.02135926 0.00915356 ... 0.00128654 0.01807838 0.04830177]\n",
      " [0.02130339 0.03340517 0.03702094 ... 0.00439105 0.02058901 0.02516072]]\n"
     ]
    }
   ],
   "source": [
    "print('Number of PCA :',len(pca.components_))\n",
    "print(abs(pca.components_))"
   ]
  },
  {
   "cell_type": "code",
   "execution_count": 54,
   "metadata": {},
   "outputs": [
    {
     "data": {
      "text/html": [
       "<div>\n",
       "<style scoped>\n",
       "    .dataframe tbody tr th:only-of-type {\n",
       "        vertical-align: middle;\n",
       "    }\n",
       "\n",
       "    .dataframe tbody tr th {\n",
       "        vertical-align: top;\n",
       "    }\n",
       "\n",
       "    .dataframe thead th {\n",
       "        text-align: right;\n",
       "    }\n",
       "</style>\n",
       "<table border=\"1\" class=\"dataframe\">\n",
       "  <thead>\n",
       "    <tr style=\"text-align: right;\">\n",
       "      <th></th>\n",
       "      <th>NASDAQ.AAL</th>\n",
       "      <th>NASDAQ.AAPL</th>\n",
       "      <th>NASDAQ.ADBE</th>\n",
       "      <th>NASDAQ.ADI</th>\n",
       "      <th>NASDAQ.ADP</th>\n",
       "      <th>NASDAQ.ADSK</th>\n",
       "      <th>NASDAQ.AKAM</th>\n",
       "      <th>NASDAQ.ALXN</th>\n",
       "      <th>NASDAQ.AMAT</th>\n",
       "      <th>NASDAQ.AMD</th>\n",
       "      <th>...</th>\n",
       "      <th>NYSE.WYN</th>\n",
       "      <th>NYSE.XEC</th>\n",
       "      <th>NYSE.XEL</th>\n",
       "      <th>NYSE.XL</th>\n",
       "      <th>NYSE.XOM</th>\n",
       "      <th>NYSE.XRX</th>\n",
       "      <th>NYSE.XYL</th>\n",
       "      <th>NYSE.YUM</th>\n",
       "      <th>NYSE.ZBH</th>\n",
       "      <th>NYSE.ZTS</th>\n",
       "    </tr>\n",
       "  </thead>\n",
       "  <tbody>\n",
       "    <tr>\n",
       "      <th>0</th>\n",
       "      <td>-0.039258</td>\n",
       "      <td>-0.041064</td>\n",
       "      <td>-0.062908</td>\n",
       "      <td>-0.009788</td>\n",
       "      <td>-0.035866</td>\n",
       "      <td>-0.054668</td>\n",
       "      <td>0.050356</td>\n",
       "      <td>-0.035396</td>\n",
       "      <td>-0.044060</td>\n",
       "      <td>-0.014671</td>\n",
       "      <td>...</td>\n",
       "      <td>-0.049413</td>\n",
       "      <td>0.057001</td>\n",
       "      <td>-0.054623</td>\n",
       "      <td>-0.050608</td>\n",
       "      <td>0.047199</td>\n",
       "      <td>-0.057897</td>\n",
       "      <td>-0.061392</td>\n",
       "      <td>-0.062477</td>\n",
       "      <td>0.002538</td>\n",
       "      <td>-0.051698</td>\n",
       "    </tr>\n",
       "    <tr>\n",
       "      <th>1</th>\n",
       "      <td>-0.064284</td>\n",
       "      <td>0.033861</td>\n",
       "      <td>0.001861</td>\n",
       "      <td>-0.032453</td>\n",
       "      <td>0.043511</td>\n",
       "      <td>-0.029519</td>\n",
       "      <td>0.016178</td>\n",
       "      <td>0.058286</td>\n",
       "      <td>-0.052667</td>\n",
       "      <td>0.012376</td>\n",
       "      <td>...</td>\n",
       "      <td>-0.058941</td>\n",
       "      <td>0.030277</td>\n",
       "      <td>0.013643</td>\n",
       "      <td>-0.040769</td>\n",
       "      <td>-0.052795</td>\n",
       "      <td>0.010238</td>\n",
       "      <td>0.031466</td>\n",
       "      <td>-0.020406</td>\n",
       "      <td>-0.081229</td>\n",
       "      <td>-0.059501</td>\n",
       "    </tr>\n",
       "    <tr>\n",
       "      <th>2</th>\n",
       "      <td>-0.039858</td>\n",
       "      <td>0.064165</td>\n",
       "      <td>0.012079</td>\n",
       "      <td>0.043266</td>\n",
       "      <td>-0.037239</td>\n",
       "      <td>0.040506</td>\n",
       "      <td>-0.053892</td>\n",
       "      <td>-0.051099</td>\n",
       "      <td>0.030738</td>\n",
       "      <td>-0.086428</td>\n",
       "      <td>...</td>\n",
       "      <td>-0.003223</td>\n",
       "      <td>0.022125</td>\n",
       "      <td>0.059617</td>\n",
       "      <td>-0.034587</td>\n",
       "      <td>-0.028712</td>\n",
       "      <td>-0.039074</td>\n",
       "      <td>-0.004342</td>\n",
       "      <td>0.021010</td>\n",
       "      <td>-0.066373</td>\n",
       "      <td>0.023570</td>\n",
       "    </tr>\n",
       "    <tr>\n",
       "      <th>3</th>\n",
       "      <td>0.007578</td>\n",
       "      <td>0.077164</td>\n",
       "      <td>0.008564</td>\n",
       "      <td>-0.027896</td>\n",
       "      <td>-0.017418</td>\n",
       "      <td>0.008973</td>\n",
       "      <td>-0.032239</td>\n",
       "      <td>0.034448</td>\n",
       "      <td>0.051511</td>\n",
       "      <td>-0.077594</td>\n",
       "      <td>...</td>\n",
       "      <td>0.021692</td>\n",
       "      <td>0.060885</td>\n",
       "      <td>-0.039630</td>\n",
       "      <td>0.027694</td>\n",
       "      <td>0.012100</td>\n",
       "      <td>-0.039575</td>\n",
       "      <td>0.002900</td>\n",
       "      <td>-0.002703</td>\n",
       "      <td>-0.049420</td>\n",
       "      <td>0.015160</td>\n",
       "    </tr>\n",
       "    <tr>\n",
       "      <th>4</th>\n",
       "      <td>-0.033303</td>\n",
       "      <td>-0.016981</td>\n",
       "      <td>0.002438</td>\n",
       "      <td>-0.038330</td>\n",
       "      <td>-0.102023</td>\n",
       "      <td>-0.034831</td>\n",
       "      <td>-0.011187</td>\n",
       "      <td>0.037595</td>\n",
       "      <td>-0.039683</td>\n",
       "      <td>-0.014357</td>\n",
       "      <td>...</td>\n",
       "      <td>-0.036672</td>\n",
       "      <td>-0.011451</td>\n",
       "      <td>-0.030314</td>\n",
       "      <td>-0.012030</td>\n",
       "      <td>-0.045731</td>\n",
       "      <td>0.029255</td>\n",
       "      <td>-0.003013</td>\n",
       "      <td>-0.001339</td>\n",
       "      <td>-0.003603</td>\n",
       "      <td>0.005364</td>\n",
       "    </tr>\n",
       "  </tbody>\n",
       "</table>\n",
       "<p>5 rows × 500 columns</p>\n",
       "</div>"
      ],
      "text/plain": [
       "   NASDAQ.AAL  NASDAQ.AAPL  NASDAQ.ADBE  NASDAQ.ADI  NASDAQ.ADP  NASDAQ.ADSK  \\\n",
       "0   -0.039258    -0.041064    -0.062908   -0.009788   -0.035866    -0.054668   \n",
       "1   -0.064284     0.033861     0.001861   -0.032453    0.043511    -0.029519   \n",
       "2   -0.039858     0.064165     0.012079    0.043266   -0.037239     0.040506   \n",
       "3    0.007578     0.077164     0.008564   -0.027896   -0.017418     0.008973   \n",
       "4   -0.033303    -0.016981     0.002438   -0.038330   -0.102023    -0.034831   \n",
       "\n",
       "   NASDAQ.AKAM  NASDAQ.ALXN  NASDAQ.AMAT  NASDAQ.AMD  ...  NYSE.WYN  NYSE.XEC  \\\n",
       "0     0.050356    -0.035396    -0.044060   -0.014671  ... -0.049413  0.057001   \n",
       "1     0.016178     0.058286    -0.052667    0.012376  ... -0.058941  0.030277   \n",
       "2    -0.053892    -0.051099     0.030738   -0.086428  ... -0.003223  0.022125   \n",
       "3    -0.032239     0.034448     0.051511   -0.077594  ...  0.021692  0.060885   \n",
       "4    -0.011187     0.037595    -0.039683   -0.014357  ... -0.036672 -0.011451   \n",
       "\n",
       "   NYSE.XEL   NYSE.XL  NYSE.XOM  NYSE.XRX  NYSE.XYL  NYSE.YUM  NYSE.ZBH  \\\n",
       "0 -0.054623 -0.050608  0.047199 -0.057897 -0.061392 -0.062477  0.002538   \n",
       "1  0.013643 -0.040769 -0.052795  0.010238  0.031466 -0.020406 -0.081229   \n",
       "2  0.059617 -0.034587 -0.028712 -0.039074 -0.004342  0.021010 -0.066373   \n",
       "3 -0.039630  0.027694  0.012100 -0.039575  0.002900 -0.002703 -0.049420   \n",
       "4 -0.030314 -0.012030 -0.045731  0.029255 -0.003013 -0.001339 -0.003603   \n",
       "\n",
       "   NYSE.ZTS  \n",
       "0 -0.051698  \n",
       "1 -0.059501  \n",
       "2  0.023570  \n",
       "3  0.015160  \n",
       "4  0.005364  \n",
       "\n",
       "[5 rows x 500 columns]"
      ]
     },
     "execution_count": 54,
     "metadata": {},
     "output_type": "execute_result"
    }
   ],
   "source": [
    "comp = pd.DataFrame(pca.components_, columns = dt.columns)\n",
    "comp.head()"
   ]
  },
  {
   "cell_type": "code",
   "execution_count": null,
   "metadata": {},
   "outputs": [],
   "source": []
  }
 ],
 "metadata": {
  "kernelspec": {
   "display_name": "Python 3",
   "language": "python",
   "name": "python3"
  },
  "language_info": {
   "codemirror_mode": {
    "name": "ipython",
    "version": 3
   },
   "file_extension": ".py",
   "mimetype": "text/x-python",
   "name": "python",
   "nbconvert_exporter": "python",
   "pygments_lexer": "ipython3",
   "version": "3.7.0"
  }
 },
 "nbformat": 4,
 "nbformat_minor": 4
}
